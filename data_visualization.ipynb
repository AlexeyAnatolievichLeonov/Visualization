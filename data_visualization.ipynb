{
 "cells": [
  {
   "cell_type": "markdown",
   "metadata": {},
   "source": [
    "# Jupyter notebook\n",
    "\n",
    "Это Jupyter notebook. Он позволяет интерактивно исполнять python код. Jupyter notebook состоит из ячеек, в которых может быть написан код или обычной текст с возможностями форматирования (заголовок, курсив, цвет, url и т.п.)."
   ]
  },
  {
   "cell_type": "code",
   "execution_count": null,
   "metadata": {},
   "outputs": [],
   "source": [
    "# это ячейка кода"
   ]
  },
  {
   "cell_type": "markdown",
   "metadata": {},
   "source": [
    "А это ячейка ``markdown``."
   ]
  },
  {
   "cell_type": "markdown",
   "metadata": {},
   "source": [
    "Ячейки можно запускать по одной, нажимая `Ctrl + Enter`, либо `Shift + Enter`, чтобы сразу перейти к следующей ячейке."
   ]
  },
  {
   "cell_type": "code",
   "execution_count": null,
   "metadata": {},
   "outputs": [],
   "source": [
    "a = 1"
   ]
  },
  {
   "cell_type": "code",
   "execution_count": null,
   "metadata": {},
   "outputs": [],
   "source": [
    "b = 3"
   ]
  },
  {
   "cell_type": "code",
   "execution_count": null,
   "metadata": {},
   "outputs": [],
   "source": [
    "c = a + b * 2\n",
    "print(c)"
   ]
  },
  {
   "cell_type": "markdown",
   "metadata": {},
   "source": [
    "Состояние интерпретатора python, все переменные, классы и функции сохраняют своё состояние между запусками ячеек. Запускать ячейки можно в любом порядке, про желании можно вернуться к предыдущим и запустить их ещё раз. В случае, если вы хотите сбросить состояние и очистить все переменные (например, чтобы проверить, правильно ли работает ваш код, когда ячейки выполняются в прямом порядке), перейдите в `Ядро` -> `Перезапустить ядро...`\n",
    "\n",
    "Создать новую ячейку под текущей можно, нажав `B`. Новая ячейка над текущей - `A`. Удалить ячейку - `D, D`. Перед этим нужно выйти из режима редактирования ячейки, нажав `Esc` или просто щёлкнув курсором вбок."
   ]
  },
  {
   "cell_type": "markdown",
   "metadata": {},
   "source": [
    "# Зачем всё это"
   ]
  },
  {
   "cell_type": "markdown",
   "metadata": {},
   "source": [
    "В процессе моделирования в Geant4 может генерироваться большой объём данных. Эти данные необходимо визуализировать и, как правило, провести некоторую их обработку. Всё это можно делать любым инструментом, которым вы владеете (Excel, Origin, Matlab, gnuplot, ROOT и т.д.). Разница только в доступных готовых библиотеках, удобстве, иногда в стоимости. В этом ноутбуке вкратце будет показано, как работать с данными, считывать данные из файла и создавать различную графику."
   ]
  },
  {
   "cell_type": "markdown",
   "metadata": {},
   "source": [
    "# NumPy и векторные вычисления"
   ]
  },
  {
   "cell_type": "markdown",
   "metadata": {},
   "source": [
    "Python изначально не рассчитан на использование для обработки данных. Из-за сложной работы с памятью компьютера \"под капотом\" вычисления требуют в десятки раз больше времени, чем в C++ или Fortran. По этой причине в середине 2000-х была создана библиотека `numpy`. Пакет вобрал в себя множество полезных функций, впоследствии став стандартным инструментом для анализа данных."
   ]
  },
  {
   "cell_type": "code",
   "execution_count": null,
   "metadata": {
    "tags": []
   },
   "outputs": [],
   "source": [
    "import numpy as np # аналог #include в C++"
   ]
  },
  {
   "cell_type": "markdown",
   "metadata": {},
   "source": [
    "Базовый элемент в `numpy` - это массив:"
   ]
  },
  {
   "cell_type": "code",
   "execution_count": null,
   "metadata": {},
   "outputs": [],
   "source": [
    "a = np.array([1, 2, 3, 4, 5])\n",
    "b = np.array([5, 4, 3, 2, 1])\n",
    "print('a =', a)\n",
    "print('b =', b)"
   ]
  },
  {
   "cell_type": "markdown",
   "metadata": {},
   "source": [
    "Математика:"
   ]
  },
  {
   "cell_type": "code",
   "execution_count": null,
   "metadata": {},
   "outputs": [],
   "source": [
    "print(a + 1)\n",
    "print(a * 2)\n",
    "print(a == 2)\n",
    "print(a + b)\n",
    "print(a * b)"
   ]
  },
  {
   "cell_type": "markdown",
   "metadata": {},
   "source": [
    "Функции:"
   ]
  },
  {
   "cell_type": "code",
   "execution_count": null,
   "metadata": {
    "nbgrader": {
     "cell_type": "code",
     "checksum": "c64125b5b6b22aff3dcbfcc9404f4f3f",
     "grade": false,
     "grade_id": "cell-c8488cc1b2d24a07",
     "locked": false,
     "schema_version": 3,
     "solution": true,
     "task": false
    },
    "tags": []
   },
   "outputs": [],
   "source": [
    "def my_function(x, y):\n",
    "    return x * y / 2"
   ]
  },
  {
   "cell_type": "code",
   "execution_count": null,
   "metadata": {},
   "outputs": [],
   "source": [
    "c = my_function(a, b)\n",
    "c"
   ]
  },
  {
   "cell_type": "markdown",
   "metadata": {},
   "source": [
    "Существует ряд функций для создания массивов нулей, единиц, чисел по возрастанию / убыванию и т.д.:"
   ]
  },
  {
   "cell_type": "code",
   "execution_count": null,
   "metadata": {
    "tags": []
   },
   "outputs": [],
   "source": [
    "np.zeros(shape=(3, 4))"
   ]
  },
  {
   "cell_type": "code",
   "execution_count": null,
   "metadata": {
    "tags": []
   },
   "outputs": [],
   "source": [
    "np.ones(shape=(2, 5))"
   ]
  },
  {
   "cell_type": "code",
   "execution_count": null,
   "metadata": {
    "tags": []
   },
   "outputs": [],
   "source": [
    "np.arange(3, 15, 2.5) # start, stop, step"
   ]
  },
  {
   "cell_type": "code",
   "execution_count": null,
   "metadata": {
    "tags": []
   },
   "outputs": [],
   "source": [
    "np.arange(11) # по умолчанию start=0, step=1"
   ]
  },
  {
   "cell_type": "code",
   "execution_count": null,
   "metadata": {
    "tags": []
   },
   "outputs": [],
   "source": [
    "np.linspace(4, 14, 6) # 6 значений равномерно в интервале от 4 до 14"
   ]
  },
  {
   "cell_type": "markdown",
   "metadata": {},
   "source": [
    "Вы можете легко изменять форму массивов, делая их многомерными:"
   ]
  },
  {
   "cell_type": "code",
   "execution_count": null,
   "metadata": {
    "tags": []
   },
   "outputs": [],
   "source": [
    "m = np.arange(24).reshape(4, 6)\n",
    "m"
   ]
  },
  {
   "cell_type": "code",
   "execution_count": null,
   "metadata": {},
   "outputs": [],
   "source": [
    "print('Размерность:', m.ndim)\n",
    "print('Форма:', m.shape)"
   ]
  },
  {
   "cell_type": "code",
   "execution_count": null,
   "metadata": {},
   "outputs": [],
   "source": [
    "m.T # транспонирование"
   ]
  },
  {
   "cell_type": "code",
   "execution_count": null,
   "metadata": {},
   "outputs": [],
   "source": [
    "print('Форма:', m.T.shape)"
   ]
  },
  {
   "cell_type": "markdown",
   "metadata": {},
   "source": [
    "Линейная алгебра.\n",
    "\n",
    "Имейте ввиду, что в `numpy` есть разница между массивом и матрицей с 1 строкой."
   ]
  },
  {
   "cell_type": "code",
   "execution_count": null,
   "metadata": {},
   "outputs": [],
   "source": [
    "array = np.arange(4)\n",
    "print(array)\n",
    "print(array.ndim)\n",
    "print(array.shape)"
   ]
  },
  {
   "cell_type": "code",
   "execution_count": null,
   "metadata": {},
   "outputs": [],
   "source": [
    "row = np.arange(4).reshape(1, 4)\n",
    "print(row)\n",
    "print(row.ndim)\n",
    "print(row.shape)"
   ]
  },
  {
   "cell_type": "code",
   "execution_count": null,
   "metadata": {},
   "outputs": [],
   "source": [
    "column = np.arange(6).reshape(6, 1)\n",
    "print(column)\n",
    "print(column.ndim)\n",
    "print(column.shape)"
   ]
  },
  {
   "cell_type": "code",
   "execution_count": null,
   "metadata": {},
   "outputs": [],
   "source": [
    "matrix = np.arange(24).reshape(4, 6)\n",
    "print(matrix)"
   ]
  },
  {
   "cell_type": "code",
   "execution_count": null,
   "metadata": {
    "tags": []
   },
   "outputs": [],
   "source": [
    "# матричное умножение\n",
    "\n",
    "print('Строка на матрицу:')\n",
    "print(row @ matrix) # или: np.matmul(row, matrix)\n",
    "\n",
    "print('Можно и с массивом (результат другой):')\n",
    "print(array @ matrix) # или: np.matmul(array, matrix)\n",
    "\n",
    "print('Матрица на столбец:')\n",
    "print(matrix @ column) # или: np.matmul(matrix, column)\n",
    "\n",
    "print('Здесь с массивом уже нельзя:')\n",
    "try:\n",
    "    print(matrix @ array)\n",
    "except:\n",
    "    print('Ай!')"
   ]
  },
  {
   "cell_type": "code",
   "execution_count": null,
   "metadata": {},
   "outputs": [],
   "source": [
    "print('Матрица на матрицу:')\n",
    "print(matrix @ matrix.T) # или: np.matmul(matrix, matrix.T)\n",
    "\n",
    "print('И в другом порядке:')\n",
    "print(matrix.T @ matrix) # или: np.matmul(matrix.T, matrix)"
   ]
  },
  {
   "cell_type": "code",
   "execution_count": null,
   "metadata": {},
   "outputs": [],
   "source": [
    "print('Скалярное произведение:', array @ array) # или: np.dot(array, array)\n",
    "print('Строка на столбец:', row @ row.T) # или: np.dot(row, row.T)"
   ]
  },
  {
   "cell_type": "markdown",
   "metadata": {},
   "source": [
    "В библиотеке реализованы базовые функции по типу логарифмов, тригонометрических функций и т.д."
   ]
  },
  {
   "cell_type": "code",
   "execution_count": null,
   "metadata": {
    "tags": []
   },
   "outputs": [],
   "source": [
    "a = np.array([1, 2, 3, 4, 5])\n",
    "b = np.array([5, 4, 3, 2, 1])\n",
    "print('np.sum(a) =', np.sum(a))\n",
    "print('np.mean(a) =', np.mean(a))\n",
    "print('np.min(a) =',  np.min(a))\n",
    "print('np.argmin(b) =', np.argmin(b))\n",
    "print('np.dot(a, b) =', np.dot(a, b))\n",
    "print(np.unique(['male','male','female','female','male']))"
   ]
  },
  {
   "cell_type": "markdown",
   "metadata": {},
   "source": [
    "Чтение данных из текстового файла:"
   ]
  },
  {
   "cell_type": "code",
   "execution_count": null,
   "metadata": {},
   "outputs": [],
   "source": [
    "data = np.loadtxt('data.txt')"
   ]
  },
  {
   "cell_type": "code",
   "execution_count": null,
   "metadata": {},
   "outputs": [],
   "source": [
    "data.shape"
   ]
  },
  {
   "cell_type": "code",
   "execution_count": null,
   "metadata": {},
   "outputs": [],
   "source": [
    "print(data[:50])"
   ]
  },
  {
   "cell_type": "markdown",
   "metadata": {},
   "source": [
    "Если в файле есть комментарии, или нужно скипнуть несколько строк сверху или какие-то столбы, всё это можно настроить."
   ]
  },
  {
   "cell_type": "code",
   "execution_count": null,
   "metadata": {},
   "outputs": [],
   "source": [
    "data = np.loadtxt('data.txt', comments='#', delimiter=' ', skiprows=0)"
   ]
  },
  {
   "cell_type": "markdown",
   "metadata": {},
   "source": [
    "Документацию по всем функциям `numpy`, в которой описаны все возможные входные и выходные параметры, можно и нужно найти на странице https://numpy.org/doc/stable/reference/index.html.\n",
    "\n",
    "Хотя зачастую удобнее просто гуглить: https://www.google.com/search?q=numpy+loadtxt."
   ]
  },
  {
   "cell_type": "markdown",
   "metadata": {},
   "source": [
    "# Matplotlib и графика"
   ]
  },
  {
   "cell_type": "markdown",
   "metadata": {},
   "source": [
    "Визуализация данных в python может быть выполнена с помощью библиотеки `matplotlib`.\n",
    "\n",
    "Как и сам python, `matplotlib` упрощает элементарные вещи, в то же время позволяя создавать сверхсложные графики или пользовательские анимации."
   ]
  },
  {
   "cell_type": "code",
   "execution_count": null,
   "metadata": {
    "tags": []
   },
   "outputs": [],
   "source": [
    "import matplotlib.pyplot as plt\n",
    "\n",
    "x = np.array([0, 1, 2, 3,  4,  5])\n",
    "y = np.array([0, 1, 4, 9, 16, 25])\n",
    "plt.plot(x, y)"
   ]
  },
  {
   "cell_type": "markdown",
   "metadata": {},
   "source": [
    "А теперь с подписями и настройками осей:"
   ]
  },
  {
   "cell_type": "code",
   "execution_count": null,
   "metadata": {},
   "outputs": [],
   "source": [
    "fig = plt.figure(figsize=(8, 4)) # по умолчанию размеры в дюймах, т.е. 8 x 4 дюйма\n",
    "plt.plot(x, y, label='parabola', color='r', marker='.', markersize=10)\n",
    "plt.plot(x, np.sqrt(y), label='line', linestyle='--', linewidth=5)\n",
    "plt.xlim(0, 5)\n",
    "plt.ylim(-1, 30)\n",
    "plt.xlabel('x')\n",
    "plt.ylabel('y')\n",
    "plt.title('Informative title')\n",
    "plt.legend(loc='upper left')\n",
    "plt.grid()\n",
    "plt.show()"
   ]
  },
  {
   "cell_type": "markdown",
   "metadata": {},
   "source": [
    "Теперь гистограммы:"
   ]
  },
  {
   "cell_type": "code",
   "execution_count": null,
   "metadata": {
    "tags": []
   },
   "outputs": [],
   "source": [
    "e = np.random.normal(5, 1, 1000)\n",
    "\n",
    "plt.hist(e);"
   ]
  },
  {
   "cell_type": "code",
   "execution_count": null,
   "metadata": {},
   "outputs": [],
   "source": [
    "def gaussian(x, mu, sig):\n",
    "    return 1 / np.sqrt(2 * np.pi * sig**2) * np.exp(-(x - mu)**2 / (sig**2 * 2))"
   ]
  },
  {
   "cell_type": "code",
   "execution_count": null,
   "metadata": {},
   "outputs": [],
   "source": [
    "t = np.linspace(1, 9, 100)\n",
    "\n",
    "plt.hist(e, bins=50, range=[2.5, 7.5], density=True, histtype='step', color='r')\n",
    "plt.plot(t, gaussian(t, 4, 1), color='k')\n",
    "plt.xlim(0.5, 9.5)\n",
    "plt.show()"
   ]
  },
  {
   "cell_type": "markdown",
   "metadata": {},
   "source": [
    "Несколько графиков. Для каждого графика - свои оси, которые настраиваются отдельно."
   ]
  },
  {
   "cell_type": "code",
   "execution_count": null,
   "metadata": {},
   "outputs": [],
   "source": [
    "fig = plt.figure(figsize=(10, 7), layout='constrained')\n",
    "ax = fig.subplots(nrows=2, ncols=2) # это массив формы (2, 2)\n",
    "\n",
    "ax[0, 0].plot(t, gaussian(t, 5, 1), marker='.')\n",
    "ax[0, 0].set_xlabel('x1')\n",
    "ax[0, 0].set_ylabel('lin scale')\n",
    "ax[0, 0].set_title('gauss')\n",
    "\n",
    "ax[0, 1].plot(t, gaussian(t, 5, 1), marker='.')\n",
    "ax[0, 1].set_xlabel('x2')\n",
    "ax[0, 1].set_ylabel('log scale')\n",
    "ax[0, 1].set_title('log gauss')\n",
    "ax[0, 1].set_yscale('log')\n",
    "\n",
    "ax[1, 0].hist(e, bins=20)\n",
    "ax[1, 0].plot(t, t**2, linewidth=4)\n",
    "ax[1, 0].set_xlabel('x3, keV')\n",
    "ax[1, 0].set_ylabel('y3, cm')\n",
    "\n",
    "ax[1, 1].plot(t, np.sin(2 * t))\n",
    "ax[1, 1].set_ylim(-2, 2)\n",
    "ax[1, 1].set_xlabel('x4, MeV')\n",
    "ax[1, 1].grid()\n",
    "\n",
    "plt.show()\n",
    "fig.savefig('figure.png') # сохранение в файл"
   ]
  },
  {
   "cell_type": "markdown",
   "metadata": {},
   "source": [
    "Аналогично ссылка на официальную документацию `matplotlib`: https://matplotlib.org/stable/api/index.html.\n",
    "\n",
    "Также имеет смысл искать что-то конкретное в гугле: https://www.google.com/search?q=matplotlib+hist."
   ]
  },
  {
   "cell_type": "markdown",
   "metadata": {},
   "source": [
    "# SciPy и фитирование"
   ]
  },
  {
   "cell_type": "markdown",
   "metadata": {},
   "source": [
    "Одна из задач, возникающих при обработке результатов моделирование, - определение параметров получившегося распределения. В `numpy` реализована функция `numpy.polyfit`, позволяющая проводить полиномиальный фит.\n",
    "\n",
    "Ниже показан пример с полиномом x<sup>4</sup> - 5x<sup>3</sup> - 4x<sup>2</sup> + 20x + 20."
   ]
  },
  {
   "cell_type": "code",
   "execution_count": null,
   "metadata": {},
   "outputs": [],
   "source": [
    "x = np.linspace(0, 5, 40)\n",
    "y = x**4 - 5 * x**3 - 4 * x**2 + 20 * x + 20\n",
    "\n",
    "plt.plot(x, y, marker='.')\n",
    "plt.show()"
   ]
  },
  {
   "cell_type": "code",
   "execution_count": null,
   "metadata": {},
   "outputs": [],
   "source": [
    "# альтернативный и более компактный способ задать полином\n",
    "p = [1, -5, -4, 20, 20]\n",
    "y = np.polyval(p, x)\n",
    "\n",
    "plt.plot(x, y, marker='.')\n",
    "plt.show()"
   ]
  },
  {
   "cell_type": "code",
   "execution_count": null,
   "metadata": {},
   "outputs": [],
   "source": [
    "y_noise = y + np.random.normal(0, 3, size=y.size)\n",
    "\n",
    "plt.plot(x, y_noise, linestyle='', marker='.')\n",
    "plt.plot(x, y)\n",
    "plt.show()"
   ]
  },
  {
   "cell_type": "code",
   "execution_count": null,
   "metadata": {},
   "outputs": [],
   "source": [
    "p_fit = np.polyfit(x, y_noise, 4)\n",
    "print(p_fit)\n",
    "print(p)"
   ]
  },
  {
   "cell_type": "code",
   "execution_count": null,
   "metadata": {},
   "outputs": [],
   "source": [
    "y_fit = np.polyval(p_fit, x)\n",
    "\n",
    "plt.plot(x, y_noise, label='data', linestyle='', marker='.')\n",
    "plt.plot(x, y, label='true function', linestyle=':')\n",
    "plt.plot(x, np.polyval(p_fit, x), label='fit')\n",
    "plt.legend()\n",
    "plt.show()"
   ]
  },
  {
   "cell_type": "markdown",
   "metadata": {},
   "source": [
    "Однако этим возможности `numpy` исчерпываются.\n",
    "\n",
    "Библиотека `scipy` содержит множество продвинутых инструментов фитирования, позволяющих задать произвольную функцию, учесть погрешность точек, оценить погрешность получаемых из фита параметров, выбрать алгоритм минимизации и многое другое. Функции `scipy.optimize.curve_fit` достаточно для этих целей."
   ]
  },
  {
   "cell_type": "code",
   "execution_count": null,
   "metadata": {},
   "outputs": [],
   "source": [
    "import scipy as sp"
   ]
  },
  {
   "cell_type": "markdown",
   "metadata": {},
   "source": [
    "Вернёмся к данным из файла `data.txt`."
   ]
  },
  {
   "cell_type": "code",
   "execution_count": null,
   "metadata": {},
   "outputs": [],
   "source": [
    "plt.hist(data, bins=50)\n",
    "plt.show()"
   ]
  },
  {
   "cell_type": "markdown",
   "metadata": {},
   "source": [
    "Распределение данные представляет собой экспоненциальную подложку и гауссовый пик в районе x = 5."
   ]
  },
  {
   "cell_type": "code",
   "execution_count": null,
   "metadata": {},
   "outputs": [],
   "source": [
    "y_data, bin_edges = np.histogram(data, bins=50)\n",
    "x_data = (bin_edges[:-1] + bin_edges[1:]) / 2\n",
    "y_data_err = np.sqrt(y_data)\n",
    "\n",
    "plt.errorbar(x_data, y_data, y_data_err, linestyle='')\n",
    "plt.show()"
   ]
  },
  {
   "cell_type": "code",
   "execution_count": null,
   "metadata": {},
   "outputs": [],
   "source": [
    "def exponent_gauss(x, a, b, N, mu, sigma):\n",
    "    return a * np.exp(-x / b) + N * np.exp(-(x - mu)**2 / sigma**2)\n",
    "\n",
    "popt, pcov = sp.optimize.curve_fit(exponent_gauss, x_data, y_data, p0=[1000, 1, 1000, 5, 1], sigma=y_data_err, absolute_sigma=True)\n",
    "perr = np.sqrt(np.diag(pcov))\n",
    "\n",
    "print(' a = {:4.0f},  b = {:.2f},  N = {:3.0f},  mu = {:.2f},  sigma = {:5.2f}'.format(*popt))\n",
    "print('Δa = {:4.0f}, Δb = {:.2f}, ΔN = {:3.0f}, Δmu = {:.2f}, Δsigma = {:5.2f}'.format(*perr))"
   ]
  },
  {
   "cell_type": "code",
   "execution_count": null,
   "metadata": {},
   "outputs": [],
   "source": [
    "plt.errorbar(x_data, y_data, y_data_err, linestyle='')\n",
    "plt.plot(x_data, exponent_gauss(x_data, *popt), label='fit')\n",
    "plt.legend()\n",
    "plt.show()"
   ]
  },
  {
   "cell_type": "markdown",
   "metadata": {},
   "source": [
    "Ссылка на документацию `scipy`: https://docs.scipy.org/doc/scipy/reference/index.html.\n",
    "\n",
    "Пример поиска описания функции `curve_fit`: https://www.google.com/search?q=scipy+curve+fit."
   ]
  },
  {
   "cell_type": "markdown",
   "metadata": {},
   "source": [
    "# Другие библиотеки"
   ]
  },
  {
   "cell_type": "markdown",
   "metadata": {},
   "source": [
    "Кроме `NumPy`, `Matplotlib` и `SciPy` существует множество других полезных для научной работы библиотек. Вот некоторые:\n",
    "- [astropy](https://docs.astropy.org/en/stable/index.html) - научный анализ в области астрономии и астрофизики.\n",
    "- [iminuit](https://scikit-hep.org/iminuit/index.html) - python интерфейс для библиотеки Minuit2, предназначенной для фитирования. Разработан и поддерживается в CERN.\n",
    "- [scikit-learn](https://scikit-learn.org/stable/) - машинное обучение.\n",
    "- [PyTorch](https://pytorch.org/docs/stable/index.html) - тензорные вычисления, глубокие нейронные сети.\n",
    "- [seaborn](https://seaborn.pydata.org/) - визуализация научных данных.\n",
    "- [Plotly](https://plotly.com/python/) - визуализация и графика."
   ]
  }
 ],
 "metadata": {
  "kernelspec": {
   "display_name": "Python 3 (ipykernel)",
   "language": "python",
   "name": "python3"
  },
  "language_info": {
   "codemirror_mode": {
    "name": "ipython",
    "version": 3
   },
   "file_extension": ".py",
   "mimetype": "text/x-python",
   "name": "python",
   "nbconvert_exporter": "python",
   "pygments_lexer": "ipython3",
   "version": "3.12.3"
  }
 },
 "nbformat": 4,
 "nbformat_minor": 4
}
